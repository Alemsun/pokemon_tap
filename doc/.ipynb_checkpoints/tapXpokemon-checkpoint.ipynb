{
 "cells": [
  {
   "cell_type": "markdown",
   "id": "suffering-louisville",
   "metadata": {
    "slideshow": {
     "slide_type": "slide"
    }
   },
   "source": [
    "# TAP x Pokemon"
   ]
  },
  {
   "cell_type": "markdown",
   "id": "swedish-conversation",
   "metadata": {
    "slideshow": {
     "slide_type": "subslide"
    }
   },
   "source": [
    "TAPxPokemon is a project that links togheter many technologies and applies them to the world of competitive Pokemon battling, processing battle data logs to extract useful information and tries to predict the outcome of a match using machine learning."
   ]
  },
  {
   "cell_type": "markdown",
   "id": "assured-dominican",
   "metadata": {
    "slideshow": {
     "slide_type": "subslide"
    }
   },
   "source": [
    "<img src=\"./img/pikachu_meme.png\" alt=\"Best Pikachu Meme\" title=\"Wow\" width=\"800\" />"
   ]
  },
  {
   "cell_type": "markdown",
   "id": "minimal-criterion",
   "metadata": {
    "slideshow": {
     "slide_type": "slide"
    }
   },
   "source": [
    "# Project Introduction\n",
    "### Technicalities First"
   ]
  },
  {
   "cell_type": "markdown",
   "id": "terminal-aluminum",
   "metadata": {
    "slideshow": {
     "slide_type": "subslide"
    }
   },
   "source": [
    "<img src=\"./img/data_pipeline.png\" title=\"Data Pipeline\" width=\"1000\" />"
   ]
  },
  {
   "cell_type": "markdown",
   "id": "integrated-exhibition",
   "metadata": {
    "slideshow": {
     "slide_type": "subslide"
    }
   },
   "source": [
    "During this journey we are going to explore every data pipeline stage and its component, from *Ingestion* to *Visualization*.\n",
    "But first..."
   ]
  },
  {
   "cell_type": "markdown",
   "id": "willing-pilot",
   "metadata": {
    "slideshow": {
     "slide_type": "slide"
    }
   },
   "source": [
    "# Data Source\n",
    "## Where everything starts"
   ]
  },
  {
   "cell_type": "markdown",
   "id": "accredited-facing",
   "metadata": {
    "slideshow": {
     "slide_type": "subslide"
    }
   },
   "source": [
    "# Pokemon Showdown\n",
    "## [Showdown Battle Simulator](https://play.pokemonshowdown.com/)\n",
    "\n",
    "\n",
    "\n",
    "As mentioned we are going to collect data regarding competitive pokemon battles, so we choose the best and most played competive simulator: Pokemon Showdown (aka SD).\n",
    "The website doesn't have any API to use and the only way to obtain data is to deal with the messages passing through the websocket, briefly...a nightmare!"
   ]
  },
  {
   "cell_type": "markdown",
   "id": "treated-professor",
   "metadata": {
    "slideshow": {
     "slide_type": "subslide"
    }
   },
   "source": [
    "Thankfully a hero made an excellent job, not just with host to server communication but creating a battle-bot using 3 different AIs (based on their behavior), his name is pmariglia and his work is available at [pmariglia/showdown](https://github.com/pmariglia/showdown).\n",
    "All I had to do was fixing the output, retrieving only the useful fields for the project and creating a json for every battle. Eventually everything"
   ]
  },
  {
   "cell_type": "markdown",
   "id": "exposed-private",
   "metadata": {
    "slideshow": {
     "slide_type": "subslide"
    }
   },
   "source": [
    " As an example:\n",
    " ***\n",
    " `{\n",
    "  \"battle\": [\n",
    "    {\n",
    "      \"bid\": 3,\n",
    "      \"player\": \"Norne42\",\n",
    "      \"type\": \"gen8ou\",\n",
    "      \"turns\": 44\n",
    "    }\n",
    "  ],\n",
    "  \"pokemon\": [\n",
    "    {\n",
    "      \"name\": \"barraskewda\",\n",
    "      \"ability\": \"swiftswim\",\n",
    "      \"types\": [\n",
    "        \"water\"\n",
    "      ],\n",
    "      \"item\": \"choiceband\",\n",
    "      \"win\": 1\n",
    "    },\n",
    "}` \n",
    "***\n",
    "Shortened for obvious reasons."
   ]
  },
  {
   "cell_type": "markdown",
   "id": "tender-terrace",
   "metadata": {
    "slideshow": {
     "slide_type": "subslide"
    }
   },
   "source": [
    "In detail we are extracting data such as:\n",
    " - Battle Info (Player name, Turns, Type of Battle)\n",
    " - Pokemon Info (Name, Ability, Types, Moves, etc...)\n",
    " \n",
    "<img src=\"./img/more_data.jpg\" title=\"More Data\" width=\"500\" />"
   ]
  },
  {
   "cell_type": "markdown",
   "id": "macro-institute",
   "metadata": {
    "slideshow": {
     "slide_type": "slide"
    }
   },
   "source": [
    "# Data Ingestion\n",
    "## Where everything goes\n",
    "\n",
    "Logstash is our choice for this project and there many reasons why:\n",
    " - Ease of use, in both coding and \"Dockerizing\"\n",
    " - Filters and parse data on the fly\n",
    " - Flume didn't work...\n",
    " \n",
    " <img src=\"./img/flume_logstash.jpg\" title=\"Flume vs Logstash\" width=\"300\" />\n",
    " "
   ]
  },
  {
   "cell_type": "markdown",
   "id": "outer-environment",
   "metadata": {},
   "source": []
  },
  {
   "cell_type": "markdown",
   "id": "disabled-shopping",
   "metadata": {},
   "source": []
  },
  {
   "cell_type": "markdown",
   "id": "ranging-stone",
   "metadata": {},
   "source": []
  },
  {
   "cell_type": "markdown",
   "id": "educated-syracuse",
   "metadata": {},
   "source": []
  }
 ],
 "metadata": {
  "celltoolbar": "Slideshow",
  "kernelspec": {
   "display_name": "Python 3",
   "language": "python",
   "name": "python3"
  },
  "language_info": {
   "codemirror_mode": {
    "name": "ipython",
    "version": 3
   },
   "file_extension": ".py",
   "mimetype": "text/x-python",
   "name": "python",
   "nbconvert_exporter": "python",
   "pygments_lexer": "ipython3",
   "version": "3.9.1"
  }
 },
 "nbformat": 4,
 "nbformat_minor": 5
}
