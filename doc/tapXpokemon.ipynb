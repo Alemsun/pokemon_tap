{
 "cells": [
  {
   "cell_type": "markdown",
   "id": "lined-patch",
   "metadata": {
    "slideshow": {
     "slide_type": "slide"
    }
   },
   "source": [
    "# TAPxPokemon"
   ]
  },
  {
   "cell_type": "markdown",
   "id": "gorgeous-antenna",
   "metadata": {
    "slideshow": {
     "slide_type": "subslide"
    }
   },
   "source": [
    "TAPxPokemon is a project that links togheter many technologies and applies them to the world of competitive Pokemon battling, processing battle data logs to extract useful information and tries to predict the outcome of a match using machine learnig."
   ]
  },
  {
   "cell_type": "markdown",
   "id": "given-gasoline",
   "metadata": {
    "slideshow": {
     "slide_type": "subslide"
    }
   },
   "source": [
    "BELLAAAAAAAAAA"
   ]
  },
  {
   "cell_type": "markdown",
   "id": "virgin-garbage",
   "metadata": {},
   "source": []
  }
 ],
 "metadata": {
  "celltoolbar": "Slideshow",
  "kernelspec": {
   "display_name": "Python 3",
   "language": "python",
   "name": "python3"
  },
  "language_info": {
   "codemirror_mode": {
    "name": "ipython",
    "version": 3
   },
   "file_extension": ".py",
   "mimetype": "text/x-python",
   "name": "python",
   "nbconvert_exporter": "python",
   "pygments_lexer": "ipython3",
   "version": "3.9.1"
  }
 },
 "nbformat": 4,
 "nbformat_minor": 5
}
